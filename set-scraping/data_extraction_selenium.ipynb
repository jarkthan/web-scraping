{
 "cells": [
  {
   "cell_type": "code",
   "execution_count": 1,
   "metadata": {},
   "outputs": [],
   "source": [
    "from selenium import webdriver\n",
    "from selenium.webdriver.chrome.service import Service as ChromeService\n",
    "from selenium.webdriver.common.by import By"
   ]
  },
  {
   "cell_type": "code",
   "execution_count": null,
   "metadata": {},
   "outputs": [],
   "source": [
    "industry_group_links = [\n",
    "                          'https://www.set.or.th/en/market/index/set/agro/agri'\n",
    "                        , 'https://www.set.or.th/en/market/index/set/agro/food'\n",
    "                        , 'https://www.set.or.th/en/market/index/set/consump/fashion'\n",
    "                        , 'https://www.set.or.th/en/market/index/set/consump/home'\n",
    "                        , 'https://www.set.or.th/en/market/index/set/consump/person'\n",
    "                        , 'https://www.set.or.th/en/market/index/set/fincial/bank'\n",
    "                        , 'https://www.set.or.th/en/market/index/set/fincial/fin'\n",
    "                        , 'https://www.set.or.th/en/market/index/set/fincial/insur'\n",
    "                        , 'https://www.set.or.th/en/market/index/set/indus/auto'\n",
    "                        , 'https://www.set.or.th/en/market/index/set/indus/imm'\n",
    "                        , 'https://www.set.or.th/en/market/index/set/indus/paper'\n",
    "                        , 'https://www.set.or.th/en/market/index/set/indus/petro'\n",
    "                        , 'https://www.set.or.th/en/market/index/set/indus/pkg'\n",
    "                        , 'https://www.set.or.th/en/market/index/set/indus/steel'\n",
    "                        , 'https://www.set.or.th/en/market/index/set/propcon/conmat'\n",
    "                        , 'https://www.set.or.th/en/market/index/set/propcon/prop'\n",
    "                        , 'https://www.set.or.th/en/market/index/set/propcon/pf&reit'\n",
    "                        , 'https://www.set.or.th/en/market/index/set/propcon/cons'\n",
    "                        , 'https://www.set.or.th/en/market/index/set/resourc/energ'\n",
    "                        , 'https://www.set.or.th/en/market/index/set/resourc/mine'\n",
    "                        , 'https://www.set.or.th/en/market/index/set/service/comm'\n",
    "                        , 'https://www.set.or.th/en/market/index/set/service/helth'\n",
    "                        , 'https://www.set.or.th/en/market/index/set/service/media'\n",
    "                        , 'https://www.set.or.th/en/market/index/set/service/prof'\n",
    "                        , 'https://www.set.or.th/en/market/index/set/service/tourism'\n",
    "                        , 'https://www.set.or.th/en/market/index/set/service/trans'\n",
    "                        , 'https://www.set.or.th/en/market/index/set/tech/etron'\n",
    "                        , 'https://www.set.or.th/en/market/index/set/tech/ict'\n",
    "                        ]"
   ]
  },
  {
   "cell_type": "markdown",
   "metadata": {},
   "source": [
    "# Get the Link to each Stock-Info-Page"
   ]
  },
  {
   "cell_type": "code",
   "execution_count": 37,
   "metadata": {},
   "outputs": [],
   "source": [
    "# Replace 'https://example.com' with the actual URL of the web page you want to scrape\n",
    "url = industry_group_links[0]\n",
    "\n",
    "# Set up the Chrome driver (you need to download chromedriver.exe and provide the path)\n",
    "chrome_path = '/Users/jarkrunglerdkriangkrai/Downloads/chromedriver-mac-arm64/chromedriver'  # Replace with the actual path\n",
    "# service = ChromeService(chrome_path)\n",
    "driver = webdriver.Chrome(executable_path=chrome_path)\n",
    "\n",
    "# Open the webpage\n",
    "driver.get(url)\n",
    "\n",
    "# Extract the HTML content after the page has fully loaded\n",
    "html_content = driver.page_source\n",
    "\n",
    "# Parse the HTML content as needed (e.g., using BeautifulSoup)\n",
    "# Here, we use a simple example with Selenium to find an element by its class name\n",
    "all_contents = driver.find_elements(By.TAG_NAME, 'a')\n",
    "\n",
    "all_links = []\n",
    "\n",
    "for content in all_contents:\n",
    "    href = content.get_attribute('href')\n",
    "    all_links.append(href)\n",
    "\n",
    "stock_links = []\n",
    "\n",
    "for link in all_links:\n",
    "    if isinstance(link, str) and '/en/market/product/stock/quote/' in link:\n",
    "        stock_links.append(link)\n",
    "\n",
    "# Close the browser\n",
    "driver.quit()\n"
   ]
  },
  {
   "cell_type": "code",
   "execution_count": 38,
   "metadata": {},
   "outputs": [
    {
     "name": "stdout",
     "output_type": "stream",
     "text": [
      "https://www.set.or.th/en/market/product/stock/quote/EE/price\n",
      "https://www.set.or.th/en/market/product/stock/quote/GFPT/price\n",
      "https://www.set.or.th/en/market/product/stock/quote/LEE/price\n",
      "https://www.set.or.th/en/market/product/stock/quote/MAX/price\n",
      "https://www.set.or.th/en/market/product/stock/quote/NER/price\n",
      "https://www.set.or.th/en/market/product/stock/quote/PPPM/price\n",
      "https://www.set.or.th/en/market/product/stock/quote/STA/price\n",
      "https://www.set.or.th/en/market/product/stock/quote/TEGH/price\n",
      "https://www.set.or.th/en/market/product/stock/quote/TFM/price\n",
      "https://www.set.or.th/en/market/product/stock/quote/TRUBB/price\n",
      "https://www.set.or.th/en/market/product/stock/quote/UPOIC/price\n",
      "https://www.set.or.th/en/market/product/stock/quote/UVAN/price\n",
      "https://www.set.or.th/en/market/product/stock/quote/VPO/price\n"
     ]
    }
   ],
   "source": [
    "for link in stock_links:\n",
    "    print(link)"
   ]
  },
  {
   "cell_type": "markdown",
   "metadata": {},
   "source": [
    "# Define Financial-Statement-Page of each Stock"
   ]
  },
  {
   "cell_type": "code",
   "execution_count": null,
   "metadata": {},
   "outputs": [],
   "source": [
    "'https://www.set.or.th/en/market/product/stock/quote/EE/financial-statement/company-highlights'"
   ]
  },
  {
   "cell_type": "code",
   "execution_count": 41,
   "metadata": {},
   "outputs": [
    {
     "name": "stdout",
     "output_type": "stream",
     "text": [
      "['https://www.set.or.th/en/market/product/stock/quote/EE/financial-statement/company-highlights', 'https://www.set.or.th/en/market/product/stock/quote/GFPT/financial-statement/company-highlights', 'https://www.set.or.th/en/market/product/stock/quote/LEE/financial-statement/company-highlights', 'https://www.set.or.th/en/market/product/stock/quote/MAX/financial-statement/company-highlights', 'https://www.set.or.th/en/market/product/stock/quote/NER/financial-statement/company-highlights', 'https://www.set.or.th/en/market/product/stock/quote/PPPM/financial-statement/company-highlights', 'https://www.set.or.th/en/market/product/stock/quote/STA/financial-statement/company-highlights', 'https://www.set.or.th/en/market/product/stock/quote/TEGH/financial-statement/company-highlights', 'https://www.set.or.th/en/market/product/stock/quote/TFM/financial-statement/company-highlights', 'https://www.set.or.th/en/market/product/stock/quote/TRUBB/financial-statement/company-highlights', 'https://www.set.or.th/en/market/product/stock/quote/UPOIC/financial-statement/company-highlights', 'https://www.set.or.th/en/market/product/stock/quote/UVAN/financial-statement/company-highlights', 'https://www.set.or.th/en/market/product/stock/quote/VPO/financial-statement/company-highlights']\n"
     ]
    }
   ],
   "source": [
    "fin_stm_links = []\n",
    "for link in stock_links:\n",
    "    fin_stm_link = link[:-5] + 'financial-statement/company-highlights'\n",
    "    fin_stm_links.append(fin_stm_link)\n",
    "print(fin_stm_links)\n"
   ]
  },
  {
   "cell_type": "code",
   "execution_count": null,
   "metadata": {},
   "outputs": [],
   "source": []
  }
 ],
 "metadata": {
  "kernelspec": {
   "display_name": "webscraping",
   "language": "python",
   "name": "webscraping"
  },
  "language_info": {
   "codemirror_mode": {
    "name": "ipython",
    "version": 3
   },
   "file_extension": ".py",
   "mimetype": "text/x-python",
   "name": "python",
   "nbconvert_exporter": "python",
   "pygments_lexer": "ipython3",
   "version": "3.9.16"
  }
 },
 "nbformat": 4,
 "nbformat_minor": 2
}
