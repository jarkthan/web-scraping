{
 "cells": [
  {
   "cell_type": "markdown",
   "metadata": {},
   "source": [
    "# Get the html "
   ]
  },
  {
   "cell_type": "code",
   "execution_count": 27,
   "metadata": {},
   "outputs": [],
   "source": [
    "from bs4 import BeautifulSoup\n",
    "import pandas as pd"
   ]
  },
  {
   "cell_type": "code",
   "execution_count": 28,
   "metadata": {},
   "outputs": [
    {
     "name": "stdout",
     "output_type": "stream",
     "text": [
      "['https://classic.set.or.th/set/mainpage.do?language=en&country=US', '/th/market/product/stock/search', '/en/market/product/stock/search', '/th/market/product/stock/search', '/en/market/product/stock/search', '/en/home', '/en/home', '/en/market/get-quote/stock/', 'https://www.setinvestnow.com/th/application', 'https://www.setinvestnow.com/th/application', 'https://member.set.or.th/set-member/login?system=SET&channel=WEB&language=en&redirectUrl=https%3A%2F%2Fwww.set.or.th%2Fen%2Fmarket%2Fproduct%2Fstock%2Fsearch', 'https://member.set.or.th/set-member/login?system=SET&channel=WEB&language=en&redirectUrl=https%3A%2F%2Fwww.set.or.th%2Fen%2Fmarket%2Fproduct%2Fstock%2Fsearch', '/en/market', '/en/market/product/stock/overview', '/en/market/product/etf/overview', '/en/market/product/dr/overview', '/en/market/product/drx/overview', '/en/market/product/dw/overview', 'https://www.tfex.co.th/', '/en/market/index/set/overview', '/en/market/index/ftse-set/overview', '/en/market/index/ftse-asean/overview', '/en/market/index/tri/overview', '/en/market/stock-calendar/x-calendar', '/en/market/product/stock/overview', '/en/market/product/stock/search', '/en/market/product/stock/top-ranking', '/en/market/statistics/investor-type', '/en/market/statistics/five-days', '/en/market/statistics/nvdr/main', '/en/market/statistics/short-sell', '/en/market/statistics/program-trading-value', '/en/market/statistics/market-statistics/main', '/en/market/news-and-alert/news', '/en/market/news-and-alert/market-alerts', '/en/market/news-and-alert/surveillance-c-sign-temporary-trading/summary', '/en/listing/ipo/upcoming-ipo/set', 'https://listed-company-presentation.setgroup.or.th', 'https://www.set.or.th/digitalroadshow', 'https://www.set.or.th/en/market/get-quote/stock/', 'https://www.set.or.th/dat/eod/listedcompany/static/listedCompanies_en_US.xls', 'https://media.set.or.th/set/Documents/2022/Jul/PossibleDelistingCompanies_en.xlsx', 'https://www.set.or.th/en/market/information/securities-list/short-selling-eligible-list', 'https://www.set.or.th/en/market/information/securities-list/main', 'https://media.set.or.th/set/Documents/2023/Dec/ListedCompanies_SET_ESG_Ratings_%26_GHG_Disclosures_EN.xlsx', '/en/market/information/trading-procedure/trading-hours', '/en/market/information/member-list/main', '/en/market/information/tax', '/en/market/information/investor-protection/sipf', '/en/tsd/services/investors/main', '/en/market/get-quote/stock', '/en/listing/main', '/en/listing/equities/listing/overview', '/en/listing/equities/common-stocks/overview', '/en/listing/equities/reits', '/en/listing/equities/iff', '/en/listing/equities/infra-trust', '/en/listing/equities/listing-services', '/en/listing/ipo/upcoming-ipo/set', '/en/listing/ipo/ipo-statistics', '/en/listing/ipo/first-trading-day', '/en/market/get-quote/stock', '/en/listing/listed-company/simplified-regulations/main#simplified-listed-company', '/en/listing/listed-company/financial-instruments/overview', 'https://www.setsustainability.com/', '/en/listing/listed-company/services', 'https://www.set.or.th/en/market/get-quote/stock/', 'https://www.set.or.th/dat/eod/listedcompany/static/listedCompanies_en_US.xls', 'https://media.set.or.th/set/Documents/2022/Jul/PossibleDelistingCompanies_en.xlsx', 'https://www.set.or.th/en/market/information/securities-list/short-selling-eligible-list', 'https://www.set.or.th/en/market/information/securities-list/main', 'https://classic.set.or.th/streaming/digitalroadshow', '/en/listing/other-instruments/etf/overview', '/en/listing/other-instruments/dr/overview', '/en/listing/other-instruments/dw/overview', 'https://www.set.or.th/thailandfocus', '/en/rules-regulations/main', '/en/rules-regulations/listed-companies', '/en/rules-regulations/members', '/en/rules-regulations/trading', '/en/tch/rules-regulations/tch-rules', '/en/tsd/rules-regulations/tsd-rules', '/en/tsd/rules-regulations/regulations#regulation-registrar', 'https://www.tfex.co.th/en/rules-regulations/regulations', '/en/rules-regulations/search-result', '/en/rules-regulations/regulations', '/en/rules-regulations/circulars', '/en/rules-regulations/forms', '/en/market/news-and-alert/market-alerts', '/en/rules-regulations/enforcement', '/en/rules-regulations/market-consultation', '/en/rules-regulations/regulatory-statistics', '/en/rules-regulations/update/regulations', '/en/services/main', '/en/services/connectivity-and-data/connectivity/main', '/en/services/connectivity-and-data/data/main', '/en/settrade/services/front-office-internet-trading', '/en/settrade/services/derivatives-back-office', '/en/settrade/services/fund-integrated-service', '/en/tch/services/equities-bond/services', '/en/tsd/services/depository/services', '/en/tsd/services/registrar', '/en/tsd/services/investors/main', '/en/dap/services/fundconnext', '/en/dap/services/onboarding/services', '/en/dap/services/emeeting-platform', '/en/dap/services/estamp-duty', '/en/finnet/services/payment-system', '/en/listing/listed-company/services', '/en/services/members/membership/set', '/en/services/members/trading-system-connection', '/en/services/institutions/direct-market-access', '/en/services/institutions/algorithmic-trading', '/en/services/information/isv', '/en/education-research/research/overview', '/en/education-research/research/market-report/main', '/en/education-research/research/article-paper/main', '/en/education-research/research/search-result', '/en/about/main', '/en/about/overview/journey', '/en/about/overview/vision-mission', '/en/about/overview/board-of-directors', '/en/about/overview/organization-and-management', '/en/about/overview/cg', '/en/about/overview/report/annual-report', '/en/about/join-us/main', '/en/about/setgroup/subsidiaries', 'https://www.tfex.co.th/en', '/en/tch/overview', '/en/tsd/overview', '/en/settrade/about', 'https://www.set.or.th/nvdr/th/nvdr.html', '/en/tdx/about', '/en/dap/about', '/en/finnet/about', 'https://www.live-platforms.com', '/en/about/contact-us/contact-center', 'https://www.set.or.th/en/about/sustainability-development/overview', '/en/about/event-calendar/holiday', '/en/about/contact-us/whistleblowing', '/en/home', 'https://www.set.or.th/en/market', 'https://www.set.or.th/en/market/product/stock/overview', 'https://www.set.or.th/en/market/product/stock/overview', None, None, None, None, None, 'https://www.set.or.th/en/market/product/stock/overview', 'https://www.set.or.th/en/market/product/stock/search', 'https://www.set.or.th/en/market/product/stock/top-ranking', '/en/market/statistics/investor-type', '/en/market/statistics/five-days', '/en/market/statistics/nvdr/main', '/en/market/statistics/short-sell', 'https://www.set.or.th/en/market/statistics/program-trading-value', '/en/market/statistics/market-statistics/main', None, None, None, None, None, None, None, None, None, None, None, None, None, None, None, None, None, None, None, None, None, None, None, None, None, None, None, None, None, None, None, None, None, None, None, None, None, None, None, None, None, None, None, None, None, None, None, None, None, None, None, None, None, None, None, None, None, '/en/market/index/set/agro', '/en/market/index/set/agro/agri', '/en/market/index/set/agro/food', '/en/market/index/set/consump', '/en/market/index/set/consump/fashion', '/en/market/index/set/consump/home', '/en/market/index/set/consump/person', '/en/market/index/set/fincial', '/en/market/index/set/fincial/bank', '/en/market/index/set/fincial/fin', '/en/market/index/set/fincial/insur', '/en/market/index/set/indus', '/en/market/index/set/indus/auto', '/en/market/index/set/indus/imm', '/en/market/index/set/indus/paper', '/en/market/index/set/indus/petro', '/en/market/index/set/indus/pkg', '/en/market/index/set/indus/steel', '/en/market/index/set/propcon', '/en/market/index/set/propcon/conmat', '/en/market/index/set/propcon/prop', '/en/market/index/set/propcon/pf&reit', '/en/market/index/set/propcon/cons', '/en/market/index/set/resourc', '/en/market/index/set/resourc/energ', '/en/market/index/set/resourc/mine', '/en/market/index/set/service', '/en/market/index/set/service/comm', '/en/market/index/set/service/helth', '/en/market/index/set/service/media', '/en/market/index/set/service/prof', '/en/market/index/set/service/tourism', '/en/market/index/set/service/trans', '/en/market/index/set/tech', '/en/market/index/set/tech/etron', '/en/market/index/set/tech/ict', 'https://www.facebook.com/set.or.th', 'https://www.youtube.com/user/setgroupofficial', 'https://line.me/R/ti/p/@setthailand', 'https://twitter.com/SET_Thailand', 'https://www.instagram.com/set_thailand', 'https://www.tiktok.com/@set_thailand', 'mailto:SETContactCenter@set.or.th', '/en/about/contact-us/contact-center', '/en/about/join-us/main', '/en/tsd/information/faqs', 'tel:+66 2009 9999', 'https://www.setinvestnow.com', 'https://www.settrade.com', 'https://www.tfex.co.th/en', 'https://www.live-platforms.com/', 'https://www.set.or.th/nvdr', 'https://www.setsmart.com', '/en/tch/overview', '/en/tsd/overview', '/en/dap/about', '/en/finnet/about', '/en/tdx/about', 'https://www.setlink.set.or.th/main', 'https://www.setsustainability.com/', 'https://www.setsocialimpact.com', 'https://www.cma.in.th', 'https://www.maruey.com/', 'https://investory.setgroup.or.th/', 'https://www.mof.go.th/', 'https://www.moc.go.th/', 'https://www.bot.or.th/', 'https://www.sec.or.th/', 'https://www.fpo.go.th/', 'https://www.fetco.or.th/', 'https://www.asco.or.th/', 'https://www.aimc.or.th', 'https://iaathai.org/', 'https://www.thailca.com/', 'http://www.thaiinvestors.com/', 'http://www.thaibma.or.th/', 'https://www.tba.or.th/', 'http://www.theiiat.or.th/', 'http://www.thai-iod.com/', 'http://tvca.or.th/', 'https://www.tfac.or.th/', 'https://fti.or.th/', 'https://thaichamber.org/', 'http://www.aosef.org', 'http://www.iosco.org', 'http://www.oecd.org', 'http://www.world-exchanges.org', '/en/terms-and-conditions', '/en/privacy-notice', '/en/cookies-policy', '/en/thirdparty-terms', 'https://truehits.net/stat.php?login=setwebadmin', '#', '#', '/en/member/favorites']\n"
     ]
    }
   ],
   "source": [
    "with open('home.html', 'r') as html_file:\n",
    "    content = html_file.read()\n",
    "\n",
    "    soup = BeautifulSoup(content, 'lxml')\n",
    "    links = []\n",
    "\n",
    "    for link in soup.find_all('a'):\n",
    "        href = link.get('href')\n",
    "        links.append(href)\n",
    "    print(links)"
   ]
  },
  {
   "cell_type": "markdown",
   "metadata": {},
   "source": [
    "# Define the Links to Each Industry Groups"
   ]
  },
  {
   "cell_type": "code",
   "execution_count": 35,
   "metadata": {},
   "outputs": [
    {
     "name": "stdout",
     "output_type": "stream",
     "text": [
      "['https://www.set.or.th/en/market/index/set/agro/agri', 'https://www.set.or.th/en/market/index/set/agro/food', 'https://www.set.or.th/en/market/index/set/consump/fashion', 'https://www.set.or.th/en/market/index/set/consump/home', 'https://www.set.or.th/en/market/index/set/consump/person', 'https://www.set.or.th/en/market/index/set/fincial/bank', 'https://www.set.or.th/en/market/index/set/fincial/fin', 'https://www.set.or.th/en/market/index/set/fincial/insur', 'https://www.set.or.th/en/market/index/set/indus/auto', 'https://www.set.or.th/en/market/index/set/indus/imm', 'https://www.set.or.th/en/market/index/set/indus/paper', 'https://www.set.or.th/en/market/index/set/indus/petro', 'https://www.set.or.th/en/market/index/set/indus/pkg', 'https://www.set.or.th/en/market/index/set/indus/steel', 'https://www.set.or.th/en/market/index/set/propcon/conmat', 'https://www.set.or.th/en/market/index/set/propcon/prop', 'https://www.set.or.th/en/market/index/set/propcon/pf&reit', 'https://www.set.or.th/en/market/index/set/propcon/cons', 'https://www.set.or.th/en/market/index/set/resourc/energ', 'https://www.set.or.th/en/market/index/set/resourc/mine', 'https://www.set.or.th/en/market/index/set/service/comm', 'https://www.set.or.th/en/market/index/set/service/helth', 'https://www.set.or.th/en/market/index/set/service/media', 'https://www.set.or.th/en/market/index/set/service/prof', 'https://www.set.or.th/en/market/index/set/service/tourism', 'https://www.set.or.th/en/market/index/set/service/trans', 'https://www.set.or.th/en/market/index/set/tech/etron', 'https://www.set.or.th/en/market/index/set/tech/ict']\n"
     ]
    }
   ],
   "source": [
    "relative_urls = [\n",
    "                '/en/market/index/set/agro/agri'\n",
    "                , '/en/market/index/set/agro/food'\n",
    "                , '/en/market/index/set/consump/fashion'\n",
    "                , '/en/market/index/set/consump/home'\n",
    "                , '/en/market/index/set/consump/person'\n",
    "                , '/en/market/index/set/fincial/bank'\n",
    "                , '/en/market/index/set/fincial/fin'\n",
    "                , '/en/market/index/set/fincial/insur'\n",
    "                , '/en/market/index/set/indus/auto'\n",
    "                , '/en/market/index/set/indus/imm'\n",
    "                , '/en/market/index/set/indus/paper'\n",
    "                , '/en/market/index/set/indus/petro'\n",
    "                , '/en/market/index/set/indus/pkg'\n",
    "                , '/en/market/index/set/indus/steel'\n",
    "                , '/en/market/index/set/propcon/conmat'\n",
    "                , '/en/market/index/set/propcon/prop'\n",
    "                , '/en/market/index/set/propcon/pf&reit'\n",
    "                , '/en/market/index/set/propcon/cons'\n",
    "                , '/en/market/index/set/resourc/energ'\n",
    "                , '/en/market/index/set/resourc/mine'\n",
    "                , '/en/market/index/set/service/comm'\n",
    "                , '/en/market/index/set/service/helth'\n",
    "                , '/en/market/index/set/service/media'\n",
    "                , '/en/market/index/set/service/prof'\n",
    "                , '/en/market/index/set/service/tourism'\n",
    "                , '/en/market/index/set/service/trans'\n",
    "                , '/en/market/index/set/tech/etron'\n",
    "                , '/en/market/index/set/tech/ict'\n",
    "                ]\n",
    "\n",
    "base_url = 'https://www.set.or.th'\n",
    "\n",
    "full_urls = []\n",
    "\n",
    "for relative_url in relative_urls:\n",
    "    full_url = base_url + relative_url\n",
    "    full_urls.append(full_url)\n",
    "\n",
    "print(full_urls)"
   ]
  },
  {
   "cell_type": "code",
   "execution_count": null,
   "metadata": {},
   "outputs": [],
   "source": []
  }
 ],
 "metadata": {
  "kernelspec": {
   "display_name": "webscraping",
   "language": "python",
   "name": "webscraping"
  },
  "language_info": {
   "codemirror_mode": {
    "name": "ipython",
    "version": 3
   },
   "file_extension": ".py",
   "mimetype": "text/x-python",
   "name": "python",
   "nbconvert_exporter": "python",
   "pygments_lexer": "ipython3",
   "version": "3.9.16"
  }
 },
 "nbformat": 4,
 "nbformat_minor": 2
}
